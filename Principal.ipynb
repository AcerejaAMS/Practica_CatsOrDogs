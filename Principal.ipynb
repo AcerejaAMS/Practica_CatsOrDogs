{
 "cells": [
  {
   "cell_type": "markdown",
   "metadata": {},
   "source": [
    "### Librerias"
   ]
  },
  {
   "cell_type": "code",
   "execution_count": 23,
   "metadata": {},
   "outputs": [],
   "source": [
    "from sklearn.model_selection import train_test_split\n",
    "from scipy.stats import kurtosis, skew\n",
    "from sklearn.neural_network import MLPClassifier\n",
    "from sklearn.metrics import accuracy_score\n",
    "import cv2\n",
    "import os\n",
    "import numpy as np\n",
    "from statistics import mode"
   ]
  },
  {
   "cell_type": "markdown",
   "metadata": {},
   "source": [
    "### Funciones"
   ]
  },
  {
   "cell_type": "code",
   "execution_count": 24,
   "metadata": {},
   "outputs": [],
   "source": [
    "#Función para dividir las imagenes\n",
    "def dividir_Img(image, n):\n",
    "    image = np.array(image)\n",
    "    h, w = image.shape\n",
    "    new_h = h // n\n",
    "    new_w = w // n\n",
    "    divisiones = []\n",
    "    for i in range(n):\n",
    "        for j in range(n):\n",
    "            temp = image[i*new_h:(i+1)*new_h, j*new_w:(j+1)*new_w]\n",
    "            divisiones.append(temp)\n",
    "    return np.array(divisiones)\n",
    "\n",
    "#Función para extraer cada una de las caracteristicas\n",
    "def extraer_caracteristicas(x):\n",
    "    std = np.std(x)\n",
    "    x_ravel = x.ravel()\n",
    "    if std > 0:\n",
    "        k = kurtosis(x_ravel)\n",
    "        s = skew(x_ravel)\n",
    "    else:\n",
    "        k = 0\n",
    "        s = 0\n",
    "\n",
    "    caracter = [\n",
    "        np.mean(x),                                      # Media\n",
    "        np.median(x),                                    # Mediana\n",
    "        mode(x_ravel),                                         # Moda\n",
    "        np.var(x),                                       # Varianza\n",
    "        std,                                             # Desviación estándar\n",
    "        np.min(x),                                       # Valor mínimo\n",
    "        np.max(x),                                       # Valor máximo\n",
    "        np.max(x) - np.min(x),                                       # Rango dinámico\n",
    "        k,# Curtosis\n",
    "        s,    # Asimetría\n",
    "    ]\n",
    "    return caracter\n",
    "\n",
    "#Procesar las imagenes en las particiones hechas\n",
    "def preprocesamiento(images, n):\n",
    "    new_images = []\n",
    "    for img in images:\n",
    "        div = dividir_Img(img, n)\n",
    "        car = []\n",
    "        for d in div:\n",
    "            temp = extraer_caracteristicas(d)\n",
    "            car.extend(temp)\n",
    "        new_images.append(car)\n",
    "    return np.array(new_images)\n",
    "\n"
   ]
  },
  {
   "cell_type": "markdown",
   "metadata": {},
   "source": [
    "### Descarga y lectura de imagenes"
   ]
  },
  {
   "cell_type": "code",
   "execution_count": 25,
   "metadata": {},
   "outputs": [],
   "source": [
    "data_dir = 'animals'\n",
    "categorias = ['dog', 'cat']\n",
    "\n",
    "images_BGR = []\n",
    "images_Gris = []\n",
    "labels = []\n",
    "\n",
    "for c in categorias:\n",
    "    path = os.path.join(data_dir, c)\n",
    "    label = categorias.index(c)\n",
    "    for img in os.listdir(path):\n",
    "        img_path = os.path.join(path, img)\n",
    "        image = cv2.imread(img_path)\n",
    "        temp_gris = cv2.cvtColor(image, cv2.COLOR_BGR2GRAY)\n",
    "        images_BGR.append(image)\n",
    "        images_Gris.append(temp_gris)\n",
    "        labels.append(label)\n"
   ]
  },
  {
   "cell_type": "markdown",
   "metadata": {},
   "source": [
    "### Partición de datos"
   ]
  },
  {
   "cell_type": "code",
   "execution_count": 26,
   "metadata": {},
   "outputs": [],
   "source": [
    "X_train, X_test, Y_train, Y_test = train_test_split(images_Gris, labels, test_size = 0.2)"
   ]
  },
  {
   "cell_type": "markdown",
   "metadata": {},
   "source": [
    "### Procesamiento de los datos"
   ]
  },
  {
   "cell_type": "code",
   "execution_count": 27,
   "metadata": {},
   "outputs": [],
   "source": [
    "#Procesamiento para el conjunto de entrenamiento\n",
    "X_train_n1 = preprocesamiento(X_train, 1)\n",
    "X_train_n2 = preprocesamiento(X_train, 2)\n",
    "X_train_n3 = preprocesamiento(X_train, 3)\n",
    "X_train_n4 = preprocesamiento(X_train, 4)\n",
    "X_train_n5 = preprocesamiento(X_train, 5)\n",
    "\n",
    "#Procesamiento para el conjunto de prueba\n",
    "X_test_n1 = preprocesamiento(X_test, 1)\n",
    "X_test_n2 = preprocesamiento(X_test, 2)\n",
    "X_test_n3 = preprocesamiento(X_test, 3)\n",
    "X_test_n4 = preprocesamiento(X_test, 4)\n",
    "X_test_n5 = preprocesamiento(X_test, 5)"
   ]
  },
  {
   "cell_type": "code",
   "execution_count": 28,
   "metadata": {},
   "outputs": [],
   "source": [
    "#Definición de las dimensiones para cada red multicapa\n",
    "input_dim_n1 = X_train_n1.shape[1]\n",
    "hidden_layer_configs_n1 = [(i, j) for i in range(1, 21) for j in range(1, 21)]\n",
    "\n",
    "input_dim_n2 = X_train_n2.shape[1]\n",
    "hidden_layer_configs_n2 = [(i, j) for i in range(1, 21) for j in range(1, 21)]\n",
    "\n",
    "input_dim_n3 = X_train_n3.shape[1]\n",
    "hidden_layer_configs_n3 = [(i, j) for i in range(1, 21) for j in range(1, 21)]\n",
    "\n",
    "input_dim_n4 = X_train_n4.shape[1]\n",
    "hidden_layer_configs_n4 = [(i, j) for i in range(1, 21) for j in range(1, 21)]\n",
    "\n",
    "input_dim_n5 = X_train_n5.shape[1]\n",
    "hidden_layer_configs_n5 = [(i, j) for i in range(1, 21) for j in range(1, 21)]\n"
   ]
  },
  {
   "cell_type": "markdown",
   "metadata": {},
   "source": [
    "### Red neuronal con sklearn"
   ]
  },
  {
   "cell_type": "markdown",
   "metadata": {},
   "source": [
    "#### Entrenamiento de los modelos"
   ]
  },
  {
   "cell_type": "code",
   "execution_count": 29,
   "metadata": {},
   "outputs": [
    {
     "name": "stderr",
     "output_type": "stream",
     "text": [
      "c:\\Users\\abiab\\AppData\\Local\\Programs\\Python\\Python312\\Lib\\site-packages\\sklearn\\neural_network\\_multilayer_perceptron.py:691: ConvergenceWarning: Stochastic Optimizer: Maximum iterations (500) reached and the optimization hasn't converged yet.\n",
      "  warnings.warn(\n"
     ]
    }
   ],
   "source": [
    "#Realización de modelo para n = 1\n",
    "models_n1 = []\n",
    "for config in hidden_layer_configs_n1:\n",
    "    model = MLPClassifier(hidden_layer_sizes=config, max_iter=500, random_state=42)\n",
    "    model.fit(X_train_n1, Y_train)\n",
    "    score = model.score(X_train_n1, Y_train)\n",
    "    models_n1.append((config, score))\n"
   ]
  },
  {
   "cell_type": "code",
   "execution_count": 30,
   "metadata": {},
   "outputs": [
    {
     "name": "stderr",
     "output_type": "stream",
     "text": [
      "c:\\Users\\abiab\\AppData\\Local\\Programs\\Python\\Python312\\Lib\\site-packages\\sklearn\\neural_network\\_multilayer_perceptron.py:691: ConvergenceWarning: Stochastic Optimizer: Maximum iterations (500) reached and the optimization hasn't converged yet.\n",
      "  warnings.warn(\n",
      "c:\\Users\\abiab\\AppData\\Local\\Programs\\Python\\Python312\\Lib\\site-packages\\sklearn\\neural_network\\_multilayer_perceptron.py:691: ConvergenceWarning: Stochastic Optimizer: Maximum iterations (500) reached and the optimization hasn't converged yet.\n",
      "  warnings.warn(\n",
      "c:\\Users\\abiab\\AppData\\Local\\Programs\\Python\\Python312\\Lib\\site-packages\\sklearn\\neural_network\\_multilayer_perceptron.py:691: ConvergenceWarning: Stochastic Optimizer: Maximum iterations (500) reached and the optimization hasn't converged yet.\n",
      "  warnings.warn(\n",
      "c:\\Users\\abiab\\AppData\\Local\\Programs\\Python\\Python312\\Lib\\site-packages\\sklearn\\neural_network\\_multilayer_perceptron.py:691: ConvergenceWarning: Stochastic Optimizer: Maximum iterations (500) reached and the optimization hasn't converged yet.\n",
      "  warnings.warn(\n",
      "c:\\Users\\abiab\\AppData\\Local\\Programs\\Python\\Python312\\Lib\\site-packages\\sklearn\\neural_network\\_multilayer_perceptron.py:691: ConvergenceWarning: Stochastic Optimizer: Maximum iterations (500) reached and the optimization hasn't converged yet.\n",
      "  warnings.warn(\n"
     ]
    }
   ],
   "source": [
    "#Realización de modelo para n = 2\n",
    "models_n2 = []\n",
    "for config in hidden_layer_configs_n2:\n",
    "    model = MLPClassifier(hidden_layer_sizes=config, max_iter=500, random_state=42)\n",
    "    model.fit(X_train_n2, Y_train)\n",
    "    score = model.score(X_train_n2, Y_train)\n",
    "    models_n2.append((config, score))\n"
   ]
  },
  {
   "cell_type": "code",
   "execution_count": 31,
   "metadata": {},
   "outputs": [
    {
     "name": "stderr",
     "output_type": "stream",
     "text": [
      "c:\\Users\\abiab\\AppData\\Local\\Programs\\Python\\Python312\\Lib\\site-packages\\sklearn\\neural_network\\_multilayer_perceptron.py:691: ConvergenceWarning: Stochastic Optimizer: Maximum iterations (500) reached and the optimization hasn't converged yet.\n",
      "  warnings.warn(\n",
      "c:\\Users\\abiab\\AppData\\Local\\Programs\\Python\\Python312\\Lib\\site-packages\\sklearn\\neural_network\\_multilayer_perceptron.py:691: ConvergenceWarning: Stochastic Optimizer: Maximum iterations (500) reached and the optimization hasn't converged yet.\n",
      "  warnings.warn(\n",
      "c:\\Users\\abiab\\AppData\\Local\\Programs\\Python\\Python312\\Lib\\site-packages\\sklearn\\neural_network\\_multilayer_perceptron.py:691: ConvergenceWarning: Stochastic Optimizer: Maximum iterations (500) reached and the optimization hasn't converged yet.\n",
      "  warnings.warn(\n",
      "c:\\Users\\abiab\\AppData\\Local\\Programs\\Python\\Python312\\Lib\\site-packages\\sklearn\\neural_network\\_multilayer_perceptron.py:691: ConvergenceWarning: Stochastic Optimizer: Maximum iterations (500) reached and the optimization hasn't converged yet.\n",
      "  warnings.warn(\n",
      "c:\\Users\\abiab\\AppData\\Local\\Programs\\Python\\Python312\\Lib\\site-packages\\sklearn\\neural_network\\_multilayer_perceptron.py:691: ConvergenceWarning: Stochastic Optimizer: Maximum iterations (500) reached and the optimization hasn't converged yet.\n",
      "  warnings.warn(\n",
      "c:\\Users\\abiab\\AppData\\Local\\Programs\\Python\\Python312\\Lib\\site-packages\\sklearn\\neural_network\\_multilayer_perceptron.py:691: ConvergenceWarning: Stochastic Optimizer: Maximum iterations (500) reached and the optimization hasn't converged yet.\n",
      "  warnings.warn(\n",
      "c:\\Users\\abiab\\AppData\\Local\\Programs\\Python\\Python312\\Lib\\site-packages\\sklearn\\neural_network\\_multilayer_perceptron.py:691: ConvergenceWarning: Stochastic Optimizer: Maximum iterations (500) reached and the optimization hasn't converged yet.\n",
      "  warnings.warn(\n",
      "c:\\Users\\abiab\\AppData\\Local\\Programs\\Python\\Python312\\Lib\\site-packages\\sklearn\\neural_network\\_multilayer_perceptron.py:691: ConvergenceWarning: Stochastic Optimizer: Maximum iterations (500) reached and the optimization hasn't converged yet.\n",
      "  warnings.warn(\n",
      "c:\\Users\\abiab\\AppData\\Local\\Programs\\Python\\Python312\\Lib\\site-packages\\sklearn\\neural_network\\_multilayer_perceptron.py:691: ConvergenceWarning: Stochastic Optimizer: Maximum iterations (500) reached and the optimization hasn't converged yet.\n",
      "  warnings.warn(\n",
      "c:\\Users\\abiab\\AppData\\Local\\Programs\\Python\\Python312\\Lib\\site-packages\\sklearn\\neural_network\\_multilayer_perceptron.py:691: ConvergenceWarning: Stochastic Optimizer: Maximum iterations (500) reached and the optimization hasn't converged yet.\n",
      "  warnings.warn(\n",
      "c:\\Users\\abiab\\AppData\\Local\\Programs\\Python\\Python312\\Lib\\site-packages\\sklearn\\neural_network\\_multilayer_perceptron.py:691: ConvergenceWarning: Stochastic Optimizer: Maximum iterations (500) reached and the optimization hasn't converged yet.\n",
      "  warnings.warn(\n",
      "c:\\Users\\abiab\\AppData\\Local\\Programs\\Python\\Python312\\Lib\\site-packages\\sklearn\\neural_network\\_multilayer_perceptron.py:691: ConvergenceWarning: Stochastic Optimizer: Maximum iterations (500) reached and the optimization hasn't converged yet.\n",
      "  warnings.warn(\n"
     ]
    }
   ],
   "source": [
    "#Realización de modelo para n = 3\n",
    "models_n3 = []\n",
    "for config in hidden_layer_configs_n3:\n",
    "    model = MLPClassifier(hidden_layer_sizes=config, max_iter=500, random_state=42)\n",
    "    model.fit(X_train_n3, Y_train)\n",
    "    score = model.score(X_train_n3, Y_train)\n",
    "    models_n3.append((config, score))\n",
    "\n"
   ]
  },
  {
   "cell_type": "code",
   "execution_count": 32,
   "metadata": {},
   "outputs": [
    {
     "name": "stderr",
     "output_type": "stream",
     "text": [
      "c:\\Users\\abiab\\AppData\\Local\\Programs\\Python\\Python312\\Lib\\site-packages\\sklearn\\neural_network\\_multilayer_perceptron.py:691: ConvergenceWarning: Stochastic Optimizer: Maximum iterations (500) reached and the optimization hasn't converged yet.\n",
      "  warnings.warn(\n",
      "c:\\Users\\abiab\\AppData\\Local\\Programs\\Python\\Python312\\Lib\\site-packages\\sklearn\\neural_network\\_multilayer_perceptron.py:691: ConvergenceWarning: Stochastic Optimizer: Maximum iterations (500) reached and the optimization hasn't converged yet.\n",
      "  warnings.warn(\n",
      "c:\\Users\\abiab\\AppData\\Local\\Programs\\Python\\Python312\\Lib\\site-packages\\sklearn\\neural_network\\_multilayer_perceptron.py:691: ConvergenceWarning: Stochastic Optimizer: Maximum iterations (500) reached and the optimization hasn't converged yet.\n",
      "  warnings.warn(\n",
      "c:\\Users\\abiab\\AppData\\Local\\Programs\\Python\\Python312\\Lib\\site-packages\\sklearn\\neural_network\\_multilayer_perceptron.py:691: ConvergenceWarning: Stochastic Optimizer: Maximum iterations (500) reached and the optimization hasn't converged yet.\n",
      "  warnings.warn(\n",
      "c:\\Users\\abiab\\AppData\\Local\\Programs\\Python\\Python312\\Lib\\site-packages\\sklearn\\neural_network\\_multilayer_perceptron.py:691: ConvergenceWarning: Stochastic Optimizer: Maximum iterations (500) reached and the optimization hasn't converged yet.\n",
      "  warnings.warn(\n",
      "c:\\Users\\abiab\\AppData\\Local\\Programs\\Python\\Python312\\Lib\\site-packages\\sklearn\\neural_network\\_multilayer_perceptron.py:691: ConvergenceWarning: Stochastic Optimizer: Maximum iterations (500) reached and the optimization hasn't converged yet.\n",
      "  warnings.warn(\n",
      "c:\\Users\\abiab\\AppData\\Local\\Programs\\Python\\Python312\\Lib\\site-packages\\sklearn\\neural_network\\_multilayer_perceptron.py:691: ConvergenceWarning: Stochastic Optimizer: Maximum iterations (500) reached and the optimization hasn't converged yet.\n",
      "  warnings.warn(\n",
      "c:\\Users\\abiab\\AppData\\Local\\Programs\\Python\\Python312\\Lib\\site-packages\\sklearn\\neural_network\\_multilayer_perceptron.py:691: ConvergenceWarning: Stochastic Optimizer: Maximum iterations (500) reached and the optimization hasn't converged yet.\n",
      "  warnings.warn(\n",
      "c:\\Users\\abiab\\AppData\\Local\\Programs\\Python\\Python312\\Lib\\site-packages\\sklearn\\neural_network\\_multilayer_perceptron.py:691: ConvergenceWarning: Stochastic Optimizer: Maximum iterations (500) reached and the optimization hasn't converged yet.\n",
      "  warnings.warn(\n",
      "c:\\Users\\abiab\\AppData\\Local\\Programs\\Python\\Python312\\Lib\\site-packages\\sklearn\\neural_network\\_multilayer_perceptron.py:691: ConvergenceWarning: Stochastic Optimizer: Maximum iterations (500) reached and the optimization hasn't converged yet.\n",
      "  warnings.warn(\n",
      "c:\\Users\\abiab\\AppData\\Local\\Programs\\Python\\Python312\\Lib\\site-packages\\sklearn\\neural_network\\_multilayer_perceptron.py:691: ConvergenceWarning: Stochastic Optimizer: Maximum iterations (500) reached and the optimization hasn't converged yet.\n",
      "  warnings.warn(\n",
      "c:\\Users\\abiab\\AppData\\Local\\Programs\\Python\\Python312\\Lib\\site-packages\\sklearn\\neural_network\\_multilayer_perceptron.py:691: ConvergenceWarning: Stochastic Optimizer: Maximum iterations (500) reached and the optimization hasn't converged yet.\n",
      "  warnings.warn(\n",
      "c:\\Users\\abiab\\AppData\\Local\\Programs\\Python\\Python312\\Lib\\site-packages\\sklearn\\neural_network\\_multilayer_perceptron.py:691: ConvergenceWarning: Stochastic Optimizer: Maximum iterations (500) reached and the optimization hasn't converged yet.\n",
      "  warnings.warn(\n",
      "c:\\Users\\abiab\\AppData\\Local\\Programs\\Python\\Python312\\Lib\\site-packages\\sklearn\\neural_network\\_multilayer_perceptron.py:691: ConvergenceWarning: Stochastic Optimizer: Maximum iterations (500) reached and the optimization hasn't converged yet.\n",
      "  warnings.warn(\n"
     ]
    }
   ],
   "source": [
    "#Realización de modelo para n = 4\n",
    "models_n4 = []\n",
    "for config in hidden_layer_configs_n4:\n",
    "    model = MLPClassifier(hidden_layer_sizes=config, max_iter=500, random_state=42)\n",
    "    model.fit(X_train_n4, Y_train)\n",
    "    score = model.score(X_train_n4, Y_train)\n",
    "    models_n4.append((config, score))\n",
    "\n"
   ]
  },
  {
   "cell_type": "code",
   "execution_count": 33,
   "metadata": {},
   "outputs": [
    {
     "name": "stderr",
     "output_type": "stream",
     "text": [
      "c:\\Users\\abiab\\AppData\\Local\\Programs\\Python\\Python312\\Lib\\site-packages\\sklearn\\neural_network\\_multilayer_perceptron.py:691: ConvergenceWarning: Stochastic Optimizer: Maximum iterations (500) reached and the optimization hasn't converged yet.\n",
      "  warnings.warn(\n",
      "c:\\Users\\abiab\\AppData\\Local\\Programs\\Python\\Python312\\Lib\\site-packages\\sklearn\\neural_network\\_multilayer_perceptron.py:691: ConvergenceWarning: Stochastic Optimizer: Maximum iterations (500) reached and the optimization hasn't converged yet.\n",
      "  warnings.warn(\n",
      "c:\\Users\\abiab\\AppData\\Local\\Programs\\Python\\Python312\\Lib\\site-packages\\sklearn\\neural_network\\_multilayer_perceptron.py:691: ConvergenceWarning: Stochastic Optimizer: Maximum iterations (500) reached and the optimization hasn't converged yet.\n",
      "  warnings.warn(\n",
      "c:\\Users\\abiab\\AppData\\Local\\Programs\\Python\\Python312\\Lib\\site-packages\\sklearn\\neural_network\\_multilayer_perceptron.py:691: ConvergenceWarning: Stochastic Optimizer: Maximum iterations (500) reached and the optimization hasn't converged yet.\n",
      "  warnings.warn(\n",
      "c:\\Users\\abiab\\AppData\\Local\\Programs\\Python\\Python312\\Lib\\site-packages\\sklearn\\neural_network\\_multilayer_perceptron.py:691: ConvergenceWarning: Stochastic Optimizer: Maximum iterations (500) reached and the optimization hasn't converged yet.\n",
      "  warnings.warn(\n",
      "c:\\Users\\abiab\\AppData\\Local\\Programs\\Python\\Python312\\Lib\\site-packages\\sklearn\\neural_network\\_multilayer_perceptron.py:691: ConvergenceWarning: Stochastic Optimizer: Maximum iterations (500) reached and the optimization hasn't converged yet.\n",
      "  warnings.warn(\n",
      "c:\\Users\\abiab\\AppData\\Local\\Programs\\Python\\Python312\\Lib\\site-packages\\sklearn\\neural_network\\_multilayer_perceptron.py:691: ConvergenceWarning: Stochastic Optimizer: Maximum iterations (500) reached and the optimization hasn't converged yet.\n",
      "  warnings.warn(\n",
      "c:\\Users\\abiab\\AppData\\Local\\Programs\\Python\\Python312\\Lib\\site-packages\\sklearn\\neural_network\\_multilayer_perceptron.py:691: ConvergenceWarning: Stochastic Optimizer: Maximum iterations (500) reached and the optimization hasn't converged yet.\n",
      "  warnings.warn(\n",
      "c:\\Users\\abiab\\AppData\\Local\\Programs\\Python\\Python312\\Lib\\site-packages\\sklearn\\neural_network\\_multilayer_perceptron.py:691: ConvergenceWarning: Stochastic Optimizer: Maximum iterations (500) reached and the optimization hasn't converged yet.\n",
      "  warnings.warn(\n",
      "c:\\Users\\abiab\\AppData\\Local\\Programs\\Python\\Python312\\Lib\\site-packages\\sklearn\\neural_network\\_multilayer_perceptron.py:691: ConvergenceWarning: Stochastic Optimizer: Maximum iterations (500) reached and the optimization hasn't converged yet.\n",
      "  warnings.warn(\n",
      "c:\\Users\\abiab\\AppData\\Local\\Programs\\Python\\Python312\\Lib\\site-packages\\sklearn\\neural_network\\_multilayer_perceptron.py:691: ConvergenceWarning: Stochastic Optimizer: Maximum iterations (500) reached and the optimization hasn't converged yet.\n",
      "  warnings.warn(\n",
      "c:\\Users\\abiab\\AppData\\Local\\Programs\\Python\\Python312\\Lib\\site-packages\\sklearn\\neural_network\\_multilayer_perceptron.py:691: ConvergenceWarning: Stochastic Optimizer: Maximum iterations (500) reached and the optimization hasn't converged yet.\n",
      "  warnings.warn(\n",
      "c:\\Users\\abiab\\AppData\\Local\\Programs\\Python\\Python312\\Lib\\site-packages\\sklearn\\neural_network\\_multilayer_perceptron.py:691: ConvergenceWarning: Stochastic Optimizer: Maximum iterations (500) reached and the optimization hasn't converged yet.\n",
      "  warnings.warn(\n",
      "c:\\Users\\abiab\\AppData\\Local\\Programs\\Python\\Python312\\Lib\\site-packages\\sklearn\\neural_network\\_multilayer_perceptron.py:691: ConvergenceWarning: Stochastic Optimizer: Maximum iterations (500) reached and the optimization hasn't converged yet.\n",
      "  warnings.warn(\n",
      "c:\\Users\\abiab\\AppData\\Local\\Programs\\Python\\Python312\\Lib\\site-packages\\sklearn\\neural_network\\_multilayer_perceptron.py:691: ConvergenceWarning: Stochastic Optimizer: Maximum iterations (500) reached and the optimization hasn't converged yet.\n",
      "  warnings.warn(\n",
      "c:\\Users\\abiab\\AppData\\Local\\Programs\\Python\\Python312\\Lib\\site-packages\\sklearn\\neural_network\\_multilayer_perceptron.py:691: ConvergenceWarning: Stochastic Optimizer: Maximum iterations (500) reached and the optimization hasn't converged yet.\n",
      "  warnings.warn(\n",
      "c:\\Users\\abiab\\AppData\\Local\\Programs\\Python\\Python312\\Lib\\site-packages\\sklearn\\neural_network\\_multilayer_perceptron.py:691: ConvergenceWarning: Stochastic Optimizer: Maximum iterations (500) reached and the optimization hasn't converged yet.\n",
      "  warnings.warn(\n"
     ]
    }
   ],
   "source": [
    "#Realización de modelo para n = 5\n",
    "models_n5 = []\n",
    "for config in hidden_layer_configs_n5:\n",
    "    model = MLPClassifier(hidden_layer_sizes=config, max_iter=500, random_state=42)\n",
    "    model.fit(X_train_n5, Y_train)\n",
    "    score = model.score(X_train_n5, Y_train)\n",
    "    models_n5.append((config, score))"
   ]
  },
  {
   "cell_type": "markdown",
   "metadata": {},
   "source": [
    "#### Recuperación de mejor modelo para cada caso"
   ]
  },
  {
   "cell_type": "code",
   "execution_count": null,
   "metadata": {},
   "outputs": [],
   "source": [
    "best_model_n1 = sorted(models_n1, key=lambda x: x[1], reverse=True)[:5]\n",
    "best_model_n2 = sorted(models_n2, key=lambda x: x[1], reverse=True)[:5]\n",
    "best_model_n3 = sorted(models_n3, key=lambda x: x[1], reverse=True)[:5]\n",
    "best_model_n4 = sorted(models_n4, key=lambda x: x[1], reverse=True)[:5]\n",
    "best_model_n5 = sorted(models_n5, key=lambda x: x[1], reverse=True)[:5\n",
    "]\n"
   ]
  },
  {
   "cell_type": "code",
   "execution_count": 35,
   "metadata": {},
   "outputs": [
    {
     "data": {
      "text/plain": [
       "[((7, 9), 0.57625),\n",
       " ((11, 18), 0.57625),\n",
       " ((16, 17), 0.57375),\n",
       " ((2, 6), 0.5725),\n",
       " ((1, 7), 0.57125)]"
      ]
     },
     "execution_count": 35,
     "metadata": {},
     "output_type": "execute_result"
    }
   ],
   "source": [
    "best_model_n1"
   ]
  },
  {
   "cell_type": "code",
   "execution_count": 36,
   "metadata": {},
   "outputs": [
    {
     "data": {
      "text/plain": [
       "[((5, 4), 0.76),\n",
       " ((7, 5), 0.75625),\n",
       " ((17, 19), 0.75375),\n",
       " ((17, 18), 0.75),\n",
       " ((11, 13), 0.7425)]"
      ]
     },
     "execution_count": 36,
     "metadata": {},
     "output_type": "execute_result"
    }
   ],
   "source": [
    "best_model_n2"
   ]
  },
  {
   "cell_type": "code",
   "execution_count": 37,
   "metadata": {},
   "outputs": [
    {
     "data": {
      "text/plain": [
       "[((20, 16), 0.9275),\n",
       " ((20, 19), 0.92125),\n",
       " ((20, 9), 0.89875),\n",
       " ((15, 15), 0.87),\n",
       " ((15, 12), 0.86375)]"
      ]
     },
     "execution_count": 37,
     "metadata": {},
     "output_type": "execute_result"
    }
   ],
   "source": [
    "best_model_n3"
   ]
  },
  {
   "cell_type": "code",
   "execution_count": 38,
   "metadata": {},
   "outputs": [
    {
     "data": {
      "text/plain": [
       "[((17, 16), 0.95),\n",
       " ((18, 16), 0.93625),\n",
       " ((14, 1), 0.91375),\n",
       " ((18, 10), 0.90625),\n",
       " ((20, 20), 0.90375)]"
      ]
     },
     "execution_count": 38,
     "metadata": {},
     "output_type": "execute_result"
    }
   ],
   "source": [
    "best_model_n4"
   ]
  },
  {
   "cell_type": "code",
   "execution_count": 39,
   "metadata": {},
   "outputs": [
    {
     "data": {
      "text/plain": [
       "[((19, 17), 1.0),\n",
       " ((18, 10), 0.9975),\n",
       " ((15, 19), 0.99),\n",
       " ((20, 19), 0.98375),\n",
       " ((14, 11), 0.97375)]"
      ]
     },
     "execution_count": 39,
     "metadata": {},
     "output_type": "execute_result"
    }
   ],
   "source": [
    "best_model_n5"
   ]
  },
  {
   "cell_type": "markdown",
   "metadata": {},
   "source": [
    "### Predicción"
   ]
  },
  {
   "cell_type": "code",
   "execution_count": 40,
   "metadata": {},
   "outputs": [
    {
     "name": "stdout",
     "output_type": "stream",
     "text": [
      "Resultado de modelo con división n = 1\n",
      "Modelo con configuración (7, 9), Exactitud: 0.55\n",
      "Resultado de modelo con división n = 1\n",
      "Modelo con configuración (11, 18), Exactitud: 0.65\n",
      "Resultado de modelo con división n = 1\n",
      "Modelo con configuración (16, 17), Exactitud: 0.565\n",
      "Resultado de modelo con división n = 1\n",
      "Modelo con configuración (2, 6), Exactitud: 0.62\n",
      "Resultado de modelo con división n = 1\n",
      "Modelo con configuración (1, 7), Exactitud: 0.6\n"
     ]
    }
   ],
   "source": [
    "for config, score in best_model_n1:\n",
    "    model = MLPClassifier(hidden_layer_sizes=config, max_iter=500, random_state=42)\n",
    "    model.fit(X_train_n1, Y_train)\n",
    "    y_pred = model.predict(X_test_n1)\n",
    "    accuracy = accuracy_score(Y_test, y_pred)\n",
    "    print('Resultado de modelo con división n = 1')\n",
    "    print(f\"Modelo con configuración {config}, Exactitud: {accuracy}\")"
   ]
  },
  {
   "cell_type": "code",
   "execution_count": 41,
   "metadata": {},
   "outputs": [
    {
     "name": "stdout",
     "output_type": "stream",
     "text": [
      "Resultado de modelo con división n = 2\n",
      "Modelo con configuración (5, 4), Exactitud: 0.76\n",
      "Resultado de modelo con división n = 2\n",
      "Modelo con configuración (7, 5), Exactitud: 0.76\n",
      "Resultado de modelo con división n = 2\n",
      "Modelo con configuración (17, 19), Exactitud: 0.7\n",
      "Resultado de modelo con división n = 2\n",
      "Modelo con configuración (17, 18), Exactitud: 0.655\n",
      "Resultado de modelo con división n = 2\n",
      "Modelo con configuración (11, 13), Exactitud: 0.69\n"
     ]
    }
   ],
   "source": [
    "for config, score in best_model_n2:\n",
    "    model = MLPClassifier(hidden_layer_sizes=config, max_iter=500, random_state=42)\n",
    "    model.fit(X_train_n2, Y_train)\n",
    "    y_pred = model.predict(X_test_n2)\n",
    "    accuracy = accuracy_score(Y_test, y_pred)\n",
    "    print('Resultado de modelo con división n = 2')\n",
    "    print(f\"Modelo con configuración {config}, Exactitud: {accuracy}\")"
   ]
  },
  {
   "cell_type": "code",
   "execution_count": 42,
   "metadata": {},
   "outputs": [
    {
     "name": "stdout",
     "output_type": "stream",
     "text": [
      "Resultado de modelo con división n = 3\n",
      "Modelo con configuración (20, 16), Exactitud: 0.72\n",
      "Resultado de modelo con división n = 3\n",
      "Modelo con configuración (20, 19), Exactitud: 0.69\n",
      "Resultado de modelo con división n = 3\n",
      "Modelo con configuración (20, 9), Exactitud: 0.705\n",
      "Resultado de modelo con división n = 3\n",
      "Modelo con configuración (15, 15), Exactitud: 0.805\n",
      "Resultado de modelo con división n = 3\n",
      "Modelo con configuración (15, 12), Exactitud: 0.735\n"
     ]
    }
   ],
   "source": [
    "for config, score in best_model_n3:\n",
    "    model = MLPClassifier(hidden_layer_sizes=config, max_iter=500, random_state=42)\n",
    "    model.fit(X_train_n3, Y_train)\n",
    "    y_pred = model.predict(X_test_n3)\n",
    "    accuracy = accuracy_score(Y_test, y_pred)\n",
    "    print('Resultado de modelo con división n = 3')\n",
    "    print(f\"Modelo con configuración {config}, Exactitud: {accuracy}\")"
   ]
  },
  {
   "cell_type": "code",
   "execution_count": 43,
   "metadata": {},
   "outputs": [
    {
     "name": "stdout",
     "output_type": "stream",
     "text": [
      "Resultado de modelo con división n = 4\n",
      "Modelo con configuración (17, 16), Exactitud: 0.72\n",
      "Resultado de modelo con división n = 4\n",
      "Modelo con configuración (18, 16), Exactitud: 0.685\n",
      "Resultado de modelo con división n = 4\n",
      "Modelo con configuración (14, 1), Exactitud: 0.71\n",
      "Resultado de modelo con división n = 4\n",
      "Modelo con configuración (18, 10), Exactitud: 0.745\n",
      "Resultado de modelo con división n = 4\n",
      "Modelo con configuración (20, 20), Exactitud: 0.735\n"
     ]
    }
   ],
   "source": [
    "for config, score in best_model_n4:\n",
    "    model = MLPClassifier(hidden_layer_sizes=config, max_iter=500, random_state=42)\n",
    "    model.fit(X_train_n4, Y_train)\n",
    "    y_pred = model.predict(X_test_n4)\n",
    "    accuracy = accuracy_score(Y_test, y_pred)\n",
    "    print('Resultado de modelo con división n = 4')\n",
    "    print(f\"Modelo con configuración {config}, Exactitud: {accuracy}\")"
   ]
  },
  {
   "cell_type": "code",
   "execution_count": 44,
   "metadata": {},
   "outputs": [
    {
     "name": "stdout",
     "output_type": "stream",
     "text": [
      "Resultado de modelo con división n = 5\n",
      "Modelo con configuración (19, 17), Exactitud: 0.66\n"
     ]
    },
    {
     "name": "stderr",
     "output_type": "stream",
     "text": [
      "c:\\Users\\abiab\\AppData\\Local\\Programs\\Python\\Python312\\Lib\\site-packages\\sklearn\\neural_network\\_multilayer_perceptron.py:691: ConvergenceWarning: Stochastic Optimizer: Maximum iterations (500) reached and the optimization hasn't converged yet.\n",
      "  warnings.warn(\n"
     ]
    },
    {
     "name": "stdout",
     "output_type": "stream",
     "text": [
      "Resultado de modelo con división n = 5\n",
      "Modelo con configuración (18, 10), Exactitud: 0.7\n"
     ]
    },
    {
     "name": "stderr",
     "output_type": "stream",
     "text": [
      "c:\\Users\\abiab\\AppData\\Local\\Programs\\Python\\Python312\\Lib\\site-packages\\sklearn\\neural_network\\_multilayer_perceptron.py:691: ConvergenceWarning: Stochastic Optimizer: Maximum iterations (500) reached and the optimization hasn't converged yet.\n",
      "  warnings.warn(\n"
     ]
    },
    {
     "name": "stdout",
     "output_type": "stream",
     "text": [
      "Resultado de modelo con división n = 5\n",
      "Modelo con configuración (15, 19), Exactitud: 0.7\n",
      "Resultado de modelo con división n = 5\n",
      "Modelo con configuración (20, 19), Exactitud: 0.73\n",
      "Resultado de modelo con división n = 5\n",
      "Modelo con configuración (14, 11), Exactitud: 0.7\n"
     ]
    }
   ],
   "source": [
    "for config, score in best_model_n5:\n",
    "    model = MLPClassifier(hidden_layer_sizes=config, max_iter=500, random_state=42)\n",
    "    model.fit(X_train_n5, Y_train)\n",
    "    y_pred = model.predict(X_test_n5)\n",
    "    accuracy = accuracy_score(Y_test, y_pred)\n",
    "    print('Resultado de modelo con división n = 5')\n",
    "    print(f\"Modelo con configuración {config}, Exactitud: {accuracy}\")"
   ]
  }
 ],
 "metadata": {
  "kernelspec": {
   "display_name": "Python 3",
   "language": "python",
   "name": "python3"
  },
  "language_info": {
   "codemirror_mode": {
    "name": "ipython",
    "version": 3
   },
   "file_extension": ".py",
   "mimetype": "text/x-python",
   "name": "python",
   "nbconvert_exporter": "python",
   "pygments_lexer": "ipython3",
   "version": "3.12.3"
  }
 },
 "nbformat": 4,
 "nbformat_minor": 2
}
